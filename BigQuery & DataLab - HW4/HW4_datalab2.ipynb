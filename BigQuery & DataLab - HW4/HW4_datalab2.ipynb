{
 "cells": [
  {
   "cell_type": "markdown",
   "metadata": {},
   "source": [
    "CS585 - Databases Systems\n",
    "======\n",
    "\n",
    "Homework 4  \n",
    "------\n",
    "### XINYUE LIU\n",
    "### liuxinyu@usc.edu\n",
    "\n",
    "*This is CS585* **HW4**"
   ]
  },
  {
   "cell_type": "code",
   "execution_count": 17,
   "metadata": {
    "collapsed": false
   },
   "outputs": [
    {
     "data": {
      "text/html": [
       "\n",
       "    <div class=\"bqtv\" id=\"3_149827063068\"></div>\n",
       "    <br />(rows: 0, time: 0.3s, cached, job: job_5Oi39hBIhHpLYzwhl3zKCqLMT-w)<br />\n",
       "    <script>\n",
       "\n",
       "      require.config({\n",
       "        paths: {\n",
       "          d3: '//cdnjs.cloudflare.com/ajax/libs/d3/3.4.13/d3',\n",
       "          plotly: 'https://cdn.plot.ly/plotly-1.5.1.min.js?noext',\n",
       "          jquery: '//ajax.googleapis.com/ajax/libs/jquery/2.0.0/jquery.min'\n",
       "        },\n",
       "        map: {\n",
       "          '*': {\n",
       "            datalab: 'nbextensions/gcpdatalab'\n",
       "          }\n",
       "        },\n",
       "        shim: {\n",
       "          plotly: {\n",
       "            deps: ['d3', 'jquery'],\n",
       "            exports: 'plotly'\n",
       "          }\n",
       "        }\n",
       "      });\n",
       "\n",
       "      require(['datalab/charting', 'datalab/element!3_149827063068', 'base/js/events',\n",
       "          'datalab/style!/nbextensions/gcpdatalab/charting.css'],\n",
       "        function(charts, dom, events) {\n",
       "          charts.render('gcharts', dom, events, 'table', [], {\"rows\": [], \"cols\": [{\"type\": \"number\", \"id\": \"wday\", \"label\": \"wday\"}]},\n",
       "            {\n",
       "              pageSize: 25,\n",
       "              cssClassNames:  {\n",
       "                tableRow: 'gchart-table-row',\n",
       "                headerRow: 'gchart-table-headerrow',\n",
       "                oddTableRow: 'gchart-table-oddrow',\n",
       "                selectedTableRow: 'gchart-table-selectedrow',\n",
       "                hoverTableRow: 'gchart-table-hoverrow',\n",
       "                tableCell: 'gchart-table-cell',\n",
       "                headerCell: 'gchart-table-headercell',\n",
       "                rowNumberCell: 'gchart-table-rownumcell'\n",
       "              }\n",
       "            },\n",
       "            {source_index: 1, fields: 'wday'},\n",
       "            0,\n",
       "            0);\n",
       "        }\n",
       "      );\n",
       "    </script>\n",
       "  "
      ],
      "text/plain": [
       "QueryResultsTable job_5Oi39hBIhHpLYzwhl3zKCqLMT-w"
      ]
     },
     "execution_count": 17,
     "metadata": {},
     "output_type": "execute_result"
    }
   ],
   "source": [
    "%%bq query\n",
    "#find the weekday of 1994/05/09\n",
    "SELECT wday\n",
    "FROM\n",
    " `publicdata.samples.natality`\n",
    "WHERE\n",
    " year = 1994\n",
    " AND\n",
    " month = 5\n",
    " AND\n",
    " day = 9;"
   ]
  },
  {
   "cell_type": "code",
   "execution_count": 20,
   "metadata": {
    "collapsed": true
   },
   "outputs": [],
   "source": [
    "%%bq query --name total_births\n",
    "#find the number of people born on 05/09 in different years\n",
    "SELECT CAST(source_year AS string) AS year, COUNT(*) AS birth_count\n",
    "FROM `publicdata.samples.natality`\n",
    "WHERE \n",
    " month = 5\n",
    "AND\n",
    " day = 9\n",
    "GROUP BY year\n",
    "ORDER BY year DESC;"
   ]
  },
  {
   "cell_type": "code",
   "execution_count": 21,
   "metadata": {
    "collapsed": false
   },
   "outputs": [
    {
     "data": {
      "text/html": [
       "\n",
       "    <div class=\"bqgc-container\">\n",
       "      \n",
       "      <div class=\"bqgc \" id=\"1_149827080996\">\n",
       "      </div>\n",
       "    </div>\n",
       "    <script>\n",
       "\n",
       "      require.config({\n",
       "        paths: {\n",
       "          d3: '//cdnjs.cloudflare.com/ajax/libs/d3/3.4.13/d3',\n",
       "          plotly: 'https://cdn.plot.ly/plotly-1.5.1.min.js?noext',\n",
       "          jquery: '//ajax.googleapis.com/ajax/libs/jquery/2.0.0/jquery.min'\n",
       "        },\n",
       "        map: {\n",
       "          '*': {\n",
       "            datalab: 'nbextensions/gcpdatalab'\n",
       "          }\n",
       "        },\n",
       "        shim: {\n",
       "          plotly: {\n",
       "            deps: ['d3', 'jquery'],\n",
       "            exports: 'plotly'\n",
       "          }\n",
       "        }\n",
       "      });\n",
       "\n",
       "      require(['datalab/charting',\n",
       "               'datalab/element!1_149827080996',\n",
       "               'base/js/events',\n",
       "               'datalab/style!/nbextensions/gcpdatalab/charting.css'\n",
       "              ],\n",
       "        function(charts, dom, events) {\n",
       "          charts.render(\n",
       "              'gcharts',\n",
       "              dom,\n",
       "              events,\n",
       "              'pie',\n",
       "              [],\n",
       "              {\"rows\": [{\"c\": [{\"v\": \"1988\"}, {\"v\": 11077}]}, {\"c\": [{\"v\": \"1987\"}, {\"v\": 8853}]}, {\"c\": [{\"v\": \"1986\"}, {\"v\": 10813}]}, {\"c\": [{\"v\": \"1985\"}, {\"v\": 10764}]}, {\"c\": [{\"v\": \"1984\"}, {\"v\": 8848}]}, {\"c\": [{\"v\": \"1983\"}, {\"v\": 9142}]}, {\"c\": [{\"v\": \"1982\"}, {\"v\": 7872}]}, {\"c\": [{\"v\": \"1981\"}, {\"v\": 7592}]}, {\"c\": [{\"v\": \"1980\"}, {\"v\": 8920}]}, {\"c\": [{\"v\": \"1979\"}, {\"v\": 8880}]}, {\"c\": [{\"v\": \"1978\"}, {\"v\": 8022}]}, {\"c\": [{\"v\": \"1977\"}, {\"v\": 7358}]}, {\"c\": [{\"v\": \"1976\"}, {\"v\": 5227}]}, {\"c\": [{\"v\": \"1975\"}, {\"v\": 6257}]}, {\"c\": [{\"v\": \"1974\"}, {\"v\": 5487}]}, {\"c\": [{\"v\": \"1973\"}, {\"v\": 5064}]}, {\"c\": [{\"v\": \"1972\"}, {\"v\": 4996}]}, {\"c\": [{\"v\": \"1971\"}, {\"v\": 4129}]}, {\"c\": [{\"v\": \"1970\"}, {\"v\": 4498}]}, {\"c\": [{\"v\": \"1969\"}, {\"v\": 4681}]}], \"cols\": [{\"type\": \"string\", \"id\": \"year\", \"label\": \"year\"}, {\"type\": \"number\", \"id\": \"birth_count\", \"label\": \"birth_count\"}]},\n",
       "              {},\n",
       "              {\"fields\": \"year,birth_count\", \"source_index\": 0, \"name\": 0},\n",
       "              0,\n",
       "              20);\n",
       "          }\n",
       "        );\n",
       "    </script>\n",
       "  "
      ],
      "text/plain": [
       "<IPython.core.display.HTML object>"
      ]
     },
     "execution_count": 21,
     "metadata": {},
     "output_type": "execute_result"
    },
    {
     "data": {
      "image/png": "[encoded data removed]"
     },
     "metadata": {
      "source_id": "1_149827080996"
     },
     "output_type": "display_data"
    }
   ],
   "source": [
    "%chart pie --data total_births --fields year,birth_count"
   ]
  }
 ],
 "metadata": {
  "kernelspec": {
   "display_name": "Python 2",
   "language": "python",
   "name": "python2"
  },
  "language_info": {
   "codemirror_mode": {
    "name": "ipython",
    "version": 2
   },
   "file_extension": ".py",
   "mimetype": "text/x-python",
   "name": "python",
   "nbconvert_exporter": "python",
   "pygments_lexer": "ipython2",
   "version": "2.7.9"
  }
 },
 "nbformat": 4,
 "nbformat_minor": 2
}
